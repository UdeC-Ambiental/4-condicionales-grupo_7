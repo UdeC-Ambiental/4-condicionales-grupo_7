{
 "cells": [
  {
   "cell_type": "markdown",
   "id": "3812c37f",
   "metadata": {},
   "source": []
  },
  {
   "cell_type": "markdown",
   "metadata": {},
   "source": [
    "# 🧩 Reto 3 – Oxígeno disuelto\n",
    "**Objetivo:** evaluar riesgo ecológico según oxígeno disuelto.\n",
    "\n",
    "**Datos:** `../data/muestras_calidad_agua.csv`"
   ]
  },
  {
   "cell_type": "markdown",
   "metadata": {},
   "source": [
    "### Pasos\n",
    "1. Carga el CSV en `df`.\n",
    "2. Extrae `sitio` y `oxigeno`.\n",
    "3. Crea `nivel_oxigeno` (bajo/medio/alto).\n",
    "4. Crea `riesgo_biologico` (⚠ si oxígeno < 5).\n",
    "5. Filtra y exporta `resultado_oxigeno.csv`.\n",
    "\n",
    "> **Reto adicional:** porcentaje de sitios con riesgo."
   ]
  },
  {
   "cell_type": "code",
   "execution_count": 5,
   "metadata": {},
   "outputs": [],
   "source": [
    "import pandas as pd\n",
    "\n",
    "# Cargar el archivo\n",
    "df = pd.read_csv('../data/muestras_calidad_agua.csv')\n"
   ]
  },
  {
   "cell_type": "code",
   "execution_count": null,
   "id": "8730ac4e",
   "metadata": {},
   "outputs": [
    {
     "data": {
      "text/html": [
       "<div>\n",
       "<style scoped>\n",
       "    .dataframe tbody tr th:only-of-type {\n",
       "        vertical-align: middle;\n",
       "    }\n",
       "\n",
       "    .dataframe tbody tr th {\n",
       "        vertical-align: top;\n",
       "    }\n",
       "\n",
       "    .dataframe thead th {\n",
       "        text-align: right;\n",
       "    }\n",
       "</style>\n",
       "<table border=\"1\" class=\"dataframe\">\n",
       "  <thead>\n",
       "    <tr style=\"text-align: right;\">\n",
       "      <th></th>\n",
       "      <th>sitio</th>\n",
       "      <th>oxigeno</th>\n",
       "    </tr>\n",
       "  </thead>\n",
       "  <tbody>\n",
       "    <tr>\n",
       "      <th>0</th>\n",
       "      <td>Río Subachoque</td>\n",
       "      <td>7.8</td>\n",
       "    </tr>\n",
       "    <tr>\n",
       "      <th>1</th>\n",
       "      <td>Quebrada Honda (Facatativá)</td>\n",
       "      <td>6.2</td>\n",
       "    </tr>\n",
       "    <tr>\n",
       "      <th>2</th>\n",
       "      <td>Río Botello (Madrid)</td>\n",
       "      <td>5.9</td>\n",
       "    </tr>\n",
       "    <tr>\n",
       "      <th>3</th>\n",
       "      <td>Afluente San José (El Rosal)</td>\n",
       "      <td>8.3</td>\n",
       "    </tr>\n",
       "    <tr>\n",
       "      <th>4</th>\n",
       "      <td>Río Villeta</td>\n",
       "      <td>6.1</td>\n",
       "    </tr>\n",
       "  </tbody>\n",
       "</table>\n",
       "</div>"
      ],
      "text/plain": [
       "                          sitio  oxigeno\n",
       "0                Río Subachoque      7.8\n",
       "1   Quebrada Honda (Facatativá)      6.2\n",
       "2          Río Botello (Madrid)      5.9\n",
       "3  Afluente San José (El Rosal)      8.3\n",
       "4                   Río Villeta      6.1"
      ]
     },
     "metadata": {},
     "output_type": "display_data"
    }
   ],
   "source": [
    "\n",
    "#Mostrar nueva dataframe\n",
    "df_oxi = df[['sitio', 'oxigeno']].copy()\n",
    "\n",
    "display(df_oxi.head())"
   ]
  },
  {
   "cell_type": "code",
   "execution_count": null,
   "id": "ecc6dc17",
   "metadata": {},
   "outputs": [
    {
     "data": {
      "text/html": [
       "<div>\n",
       "<style scoped>\n",
       "    .dataframe tbody tr th:only-of-type {\n",
       "        vertical-align: middle;\n",
       "    }\n",
       "\n",
       "    .dataframe tbody tr th {\n",
       "        vertical-align: top;\n",
       "    }\n",
       "\n",
       "    .dataframe thead th {\n",
       "        text-align: right;\n",
       "    }\n",
       "</style>\n",
       "<table border=\"1\" class=\"dataframe\">\n",
       "  <thead>\n",
       "    <tr style=\"text-align: right;\">\n",
       "      <th></th>\n",
       "      <th>sitio</th>\n",
       "      <th>oxigeno</th>\n",
       "      <th>nivel_oxigeno</th>\n",
       "    </tr>\n",
       "  </thead>\n",
       "  <tbody>\n",
       "    <tr>\n",
       "      <th>0</th>\n",
       "      <td>Río Subachoque</td>\n",
       "      <td>7.8</td>\n",
       "      <td>alto</td>\n",
       "    </tr>\n",
       "    <tr>\n",
       "      <th>1</th>\n",
       "      <td>Quebrada Honda (Facatativá)</td>\n",
       "      <td>6.2</td>\n",
       "      <td>medio</td>\n",
       "    </tr>\n",
       "    <tr>\n",
       "      <th>2</th>\n",
       "      <td>Río Botello (Madrid)</td>\n",
       "      <td>5.9</td>\n",
       "      <td>medio</td>\n",
       "    </tr>\n",
       "    <tr>\n",
       "      <th>3</th>\n",
       "      <td>Afluente San José (El Rosal)</td>\n",
       "      <td>8.3</td>\n",
       "      <td>alto</td>\n",
       "    </tr>\n",
       "    <tr>\n",
       "      <th>4</th>\n",
       "      <td>Río Villeta</td>\n",
       "      <td>6.1</td>\n",
       "      <td>medio</td>\n",
       "    </tr>\n",
       "  </tbody>\n",
       "</table>\n",
       "</div>"
      ],
      "text/plain": [
       "                          sitio  oxigeno nivel_oxigeno\n",
       "0                Río Subachoque      7.8          alto\n",
       "1   Quebrada Honda (Facatativá)      6.2         medio\n",
       "2          Río Botello (Madrid)      5.9         medio\n",
       "3  Afluente San José (El Rosal)      8.3          alto\n",
       "4                   Río Villeta      6.1         medio"
      ]
     },
     "metadata": {},
     "output_type": "display_data"
    }
   ],
   "source": [
    "#Definir nivel de oxigeno\n",
    "def nivel_oxigeno(valor):\n",
    "    if valor < 5:\n",
    "        return 'bajo'\n",
    "    elif valor < 7:\n",
    "        return 'medio'\n",
    "    else:\n",
    "        return 'alto'\n",
    "\n",
    "df_oxi['nivel_oxigeno'] = df_oxi['oxigeno'].apply(nivel_oxigeno)\n",
    "\n",
    "display(df_oxi.head())"
   ]
  },
  {
   "cell_type": "code",
   "execution_count": null,
   "id": "f4426082",
   "metadata": {},
   "outputs": [
    {
     "data": {
      "text/html": [
       "<div>\n",
       "<style scoped>\n",
       "    .dataframe tbody tr th:only-of-type {\n",
       "        vertical-align: middle;\n",
       "    }\n",
       "\n",
       "    .dataframe tbody tr th {\n",
       "        vertical-align: top;\n",
       "    }\n",
       "\n",
       "    .dataframe thead th {\n",
       "        text-align: right;\n",
       "    }\n",
       "</style>\n",
       "<table border=\"1\" class=\"dataframe\">\n",
       "  <thead>\n",
       "    <tr style=\"text-align: right;\">\n",
       "      <th></th>\n",
       "      <th>sitio</th>\n",
       "      <th>oxigeno</th>\n",
       "      <th>nivel_oxigeno</th>\n",
       "      <th>riesgo_biologico</th>\n",
       "    </tr>\n",
       "  </thead>\n",
       "  <tbody>\n",
       "    <tr>\n",
       "      <th>0</th>\n",
       "      <td>Río Subachoque</td>\n",
       "      <td>7.8</td>\n",
       "      <td>alto</td>\n",
       "      <td>False</td>\n",
       "    </tr>\n",
       "    <tr>\n",
       "      <th>1</th>\n",
       "      <td>Quebrada Honda (Facatativá)</td>\n",
       "      <td>6.2</td>\n",
       "      <td>medio</td>\n",
       "      <td>False</td>\n",
       "    </tr>\n",
       "    <tr>\n",
       "      <th>2</th>\n",
       "      <td>Río Botello (Madrid)</td>\n",
       "      <td>5.9</td>\n",
       "      <td>medio</td>\n",
       "      <td>False</td>\n",
       "    </tr>\n",
       "    <tr>\n",
       "      <th>3</th>\n",
       "      <td>Afluente San José (El Rosal)</td>\n",
       "      <td>8.3</td>\n",
       "      <td>alto</td>\n",
       "      <td>False</td>\n",
       "    </tr>\n",
       "    <tr>\n",
       "      <th>4</th>\n",
       "      <td>Río Villeta</td>\n",
       "      <td>6.1</td>\n",
       "      <td>medio</td>\n",
       "      <td>False</td>\n",
       "    </tr>\n",
       "  </tbody>\n",
       "</table>\n",
       "</div>"
      ],
      "text/plain": [
       "                          sitio  oxigeno nivel_oxigeno  riesgo_biologico\n",
       "0                Río Subachoque      7.8          alto             False\n",
       "1   Quebrada Honda (Facatativá)      6.2         medio             False\n",
       "2          Río Botello (Madrid)      5.9         medio             False\n",
       "3  Afluente San José (El Rosal)      8.3          alto             False\n",
       "4                   Río Villeta      6.1         medio             False"
      ]
     },
     "metadata": {},
     "output_type": "display_data"
    }
   ],
   "source": [
    "# Riesgo biológico si oxígeno < 5\n",
    "df_oxi['riesgo_biologico'] = df_oxi['oxigeno'] < 5\n",
    "\n",
    "display(df_oxi.head())"
   ]
  },
  {
   "cell_type": "code",
   "execution_count": 9,
   "id": "30391df7",
   "metadata": {},
   "outputs": [
    {
     "name": "stdout",
     "output_type": "stream",
     "text": [
      "Archivo '../data/resultado_oxigeno.csv' exportado correctamente.\n"
     ]
    }
   ],
   "source": [
    "# Exportar el resultado\n",
    "df_oxi.to_csv('../data/resultado_oxigeno.csv', index=False)\n",
    "print(\"Archivo '../data/resultado_oxigeno.csv' exportado correctamente.\")"
   ]
  }
 ],
 "metadata": {
  "kernelspec": {
   "display_name": "Python 3",
   "language": "python",
   "name": "python3"
  },
  "language_info": {
   "codemirror_mode": {
    "name": "ipython",
    "version": 3
   },
   "file_extension": ".py",
   "mimetype": "text/x-python",
   "name": "python",
   "nbconvert_exporter": "python",
   "pygments_lexer": "ipython3",
   "version": "3.12.1"
  }
 },
 "nbformat": 4,
 "nbformat_minor": 5
}
