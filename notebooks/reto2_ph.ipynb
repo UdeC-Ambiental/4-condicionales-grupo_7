{
 "cells": [
  {
   "cell_type": "markdown",
   "metadata": {},
   "source": [
    "# 🧩 Reto 2 – pH\n",
    "**Objetivo:** clasificar pH y generar alerta química.\n",
    "\n",
    "**Datos:** `../data/muestras_calidad_agua.csv`"
   ]
  },
  {
   "cell_type": "markdown",
   "metadata": {},
   "source": [
    "### Pasos\n",
    "1. Carga el CSV en `df`.\n",
    "2. Extrae `sitio` y `pH`.\n",
    "3. Crea `clasificacion_pH` con tres rangos.\n",
    "4. Crea `alerta_quimica` (revisión si pH < 6.5 o pH > 8.5).\n",
    "5. Filtra `df_alerta` y exporta `resultado_ph.csv`.\n",
    "\n",
    "> **Reto adicional:** promedio y desviación estándar."
   ]
  },
  {
   "cell_type": "code",
   "execution_count": null,
   "id": "9101a7eb",
   "metadata": {},
   "outputs": [],
   "source": []
  }
 ],
 "metadata": {
  "kernelspec": {
   "display_name": "Python 3 (ipykernel)",
   "language": "python",
   "name": "python3"
  },
  "language_info": {
   "codemirror_mode": {
    "name": "ipython",
    "version": 3
   },
   "file_extension": ".py",
   "mimetype": "text/x-python",
   "name": "python",
   "nbconvert_exporter": "python",
   "pygments_lexer": "ipython3",
   "version": "3.12.1"
  }
 },
 "nbformat": 4,
 "nbformat_minor": 5
}
